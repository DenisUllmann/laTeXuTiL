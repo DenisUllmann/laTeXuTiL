{
 "cells": [
  {
   "cell_type": "code",
   "execution_count": 1,
   "id": "98679deb",
   "metadata": {},
   "outputs": [],
   "source": [
    "import tensorflow as tf\n",
    "from tf_model_utils import tf2Mod2TeX\n",
    "import os"
   ]
  },
  {
   "cell_type": "code",
   "execution_count": 2,
   "id": "5620c2cc",
   "metadata": {},
   "outputs": [
    {
     "name": "stdout",
     "output_type": "stream",
     "text": [
      "Model: \"model\"\n",
      "_________________________________________________________________\n",
      " Layer (type)                Output Shape              Param #   \n",
      "=================================================================\n",
      " input_1 (InputLayer)        [(None, 50, 50, 3)]       0         \n",
      "                                                                 \n",
      " dense (Dense)               (None, 50, 50, 50)        200       \n",
      "                                                                 \n",
      " dense_1 (Dense)             (None, 50, 50, 1)         51        \n",
      "                                                                 \n",
      "=================================================================\n",
      "Total params: 251\n",
      "Trainable params: 251\n",
      "Non-trainable params: 0\n",
      "_________________________________________________________________\n"
     ]
    }
   ],
   "source": [
    "x = tf.keras.layers.Input([50,50,3])\n",
    "y = tf.keras.layers.Dense(50)(x)\n",
    "y = tf.keras.layers.Dense(1)(y)\n",
    "model = tf.keras.Model(inputs=x, outputs=y)\n",
    "model.summary()"
   ]
  },
  {
   "cell_type": "code",
   "execution_count": 6,
   "id": "d95f07bc",
   "metadata": {},
   "outputs": [],
   "source": [
    "txtSum = tf2Mod2TeX(model, \n",
    "                    modelName = 'Sample model',\n",
    "                    modelLabel = 'm1',\n",
    "                    char_dbl='=', lay_line_sep='\\\\hline')"
   ]
  },
  {
   "cell_type": "code",
   "execution_count": 7,
   "id": "a062ac7e",
   "metadata": {},
   "outputs": [],
   "source": [
    "f = open('test_modelSummary.txt', 'w')\n",
    "f.write(txtSum)\n",
    "f.close()"
   ]
  }
 ],
 "metadata": {
  "kernelspec": {
   "display_name": "Python 3 (ipykernel)",
   "language": "python",
   "name": "python3"
  },
  "language_info": {
   "codemirror_mode": {
    "name": "ipython",
    "version": 3
   },
   "file_extension": ".py",
   "mimetype": "text/x-python",
   "name": "python",
   "nbconvert_exporter": "python",
   "pygments_lexer": "ipython3",
   "version": "3.9.16"
  }
 },
 "nbformat": 4,
 "nbformat_minor": 5
}
